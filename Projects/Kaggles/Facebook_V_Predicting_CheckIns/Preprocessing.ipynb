# preprocess the data
import numpy as np
import pandas as pd
import matplotlib.pyplot as plt

df_train=pd.read_csv('train.csv')

#Let's look at the data as a whole
df_train.describe()


data=df_train[(df_train['x'] < 0.2) & (df_train['y'] < 0.2) & (df_train['accuracy'] >40) &df_train['accuracy'] <80]
