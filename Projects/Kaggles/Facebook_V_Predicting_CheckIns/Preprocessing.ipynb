# preprocess the data
import numpy as np
import pandas as pd
import matplotlib.pyplot as plt

df_train=pd.read_csv('train.csv')

#Let's look at the data as a whole
df_train.describe()

